{
 "cells": [
  {
   "cell_type": "code",
   "execution_count": null,
   "metadata": {},
   "outputs": [],
   "source": [
    "import pandas as pd \n",
    "train = pd.read_csv('data/train.csv')\n",
    "\n",
    "train.head()\n",
    "\n",
    "\n",
    "# train.info()\n",
    "train.describe()\n"
   ]
  },
  {
   "cell_type": "code",
   "execution_count": null,
   "metadata": {},
   "outputs": [],
   "source": [
    "# check count of  missing values\n",
    "missing_values = train.isnull().sum()\n",
    "missing_values.sort_values(ascending=False)\n",
    "\n",
    "\n",
    "# check percentage of missing values \n",
    "\n",
    "missing_values_percentage = train.isnull().mean() * 100 \n",
    "missing_values_percentage.sort_values(ascending=False)\n",
    "# remove features where missing values are more than 50%\n",
    "# PoolQC           99.794380\n",
    "# MiscFeature      96.504455\n",
    "# Alley            92.666210\n",
    "# Fence            80.123372\n",
    "# MasVnrType       61.274846\n",
    "# FireplaceQu      50.034270"
   ]
  },
  {
   "cell_type": "markdown",
   "metadata": {},
   "source": [
    "# Output values verification"
   ]
  },
  {
   "cell_type": "code",
   "execution_count": null,
   "metadata": {},
   "outputs": [],
   "source": [
    "# Statistical summary\n",
    "print(train['SalePrice'].describe())\n",
    "\n",
    "# Visualization with histogram\n",
    "import matplotlib.pyplot as plt\n",
    "import seaborn as sns\n",
    "\n",
    "plt.figure(figsize=(10, 6))\n",
    "sns.histplot(train['SalePrice'], kde=True)\n",
    "plt.title('Distribution of House Prices')\n",
    "plt.xlabel('Price')\n",
    "plt.ylabel('Frequency')\n",
    "plt.show()"
   ]
  },
  {
   "cell_type": "markdown",
   "metadata": {},
   "source": [
    "## verify skewness "
   ]
  },
  {
   "cell_type": "code",
   "execution_count": null,
   "metadata": {},
   "outputs": [],
   "source": [
    "from scipy import stats\n",
    "import numpy as np\n",
    "skewness = train['SalePrice'].skew()\n",
    "print(f\"Skewness: {skewness}\")\n",
    "\n",
    "# skewness is positive, so the distribution is right-skewed\n",
    "\n",
    "# log transformation\n",
    "target = np.log(train['SalePrice'])\n",
    "\n",
    "# present \n",
    "plt.figure(figsize=(10, 6))\n",
    "sns.histplot(target, kde=True)\n",
    "plt.title('Distribution of House Prices')\n",
    "plt.xlabel('Price')\n",
    "plt.ylabel('Frequency')\n",
    "plt.show()"
   ]
  }
 ],
 "metadata": {
  "kernelspec": {
   "display_name": "ml-intro_env",
   "language": "python",
   "name": "python3"
  },
  "language_info": {
   "codemirror_mode": {
    "name": "ipython",
    "version": 3
   },
   "file_extension": ".py",
   "mimetype": "text/x-python",
   "name": "python",
   "nbconvert_exporter": "python",
   "pygments_lexer": "ipython3",
   "version": "3.12.7"
  }
 },
 "nbformat": 4,
 "nbformat_minor": 2
}
