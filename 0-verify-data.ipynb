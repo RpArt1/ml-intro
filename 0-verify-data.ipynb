{
 "cells": [
  {
   "cell_type": "code",
   "execution_count": null,
   "metadata": {},
   "outputs": [],
   "source": [
    "import pandas as pd \n",
    "train = pd.read_csv('data/train.csv')\n",
    "\n",
    "train.head()\n",
    "\n",
    "\n",
    "# train.info()\n",
    "train.describe()\n"
   ]
  },
  {
   "cell_type": "code",
   "execution_count": null,
   "metadata": {},
   "outputs": [],
   "source": [
    "# check count of  missing values\n",
    "missing_values = train.isnull().sum()\n",
    "missing_values.sort_values(ascending=False)\n",
    "\n",
    "\n",
    "# check percentage of missing values \n",
    "\n",
    "missing_values_percentage = train.isnull().mean() * 100 \n",
    "missing_values_percentage.sort_values(ascending=False)\n",
    "# remove features where missing values are more than 50%\n",
    "# PoolQC           99.794380\n",
    "# MiscFeature      96.504455\n",
    "# Alley            92.666210\n",
    "# Fence            80.123372\n",
    "# MasVnrType       61.274846\n",
    "# FireplaceQu      50.034270"
   ]
  },
  {
   "cell_type": "markdown",
   "metadata": {},
   "source": [
    "# Output values verification"
   ]
  },
  {
   "cell_type": "code",
   "execution_count": null,
   "metadata": {},
   "outputs": [],
   "source": [
    "# Statistical summary\n",
    "print(train['SalePrice'].describe())\n",
    "\n",
    "# Visualization with histogram\n",
    "import matplotlib.pyplot as plt\n",
    "import seaborn as sns\n",
    "\n",
    "plt.figure(figsize=(10, 6))\n",
    "sns.histplot(train['SalePrice'], kde=True)\n",
    "plt.title('Distribution of House Prices')\n",
    "plt.xlabel('Price')\n",
    "plt.ylabel('Frequency')\n",
    "plt.show()"
   ]
  },
  {
   "cell_type": "markdown",
   "metadata": {},
   "source": [
    "## verify skewness "
   ]
  },
  {
   "cell_type": "code",
   "execution_count": null,
   "metadata": {},
   "outputs": [],
   "source": [
    "from scipy import stats\n",
    "import numpy as np\n",
    "skewness = train['SalePrice'].skew()\n",
    "print(f\"Skewness: {skewness}\")\n",
    "\n",
    "# skewness is positive, so the distribution is right-skewed\n",
    "\n",
    "# log transformation\n",
    "target = np.log(train['SalePrice'])\n",
    "\n",
    "# present \n",
    "plt.figure(figsize=(10, 6))\n",
    "sns.histplot(target, kde=True)\n",
    "plt.title('Distribution of House Prices')\n",
    "plt.xlabel('Price')\n",
    "plt.ylabel('Frequency')\n",
    "plt.show()"
   ]
  },
  {
   "cell_type": "markdown",
   "metadata": {},
   "source": [
    "# Categorical values verification "
   ]
  },
  {
   "cell_type": "markdown",
   "metadata": {},
   "source": [
    "#### Verify singular colums "
   ]
  },
  {
   "cell_type": "code",
   "execution_count": null,
   "metadata": {},
   "outputs": [],
   "source": [
    "X_train  = pd.read_csv(\"data/X_train_cleaned.csv\")\n",
    "# X_train  = pd.read_csv(\"data/train.csv\",keep_default_na=True)\n",
    "\n",
    "column_name = \"LotFrontage\"\n",
    "print(f\"Data type: {X_train[column_name].dtype}\")\n",
    "print(f\"NaN count: {X_train[column_name].isna().sum()}\")\n",
    "print(\"Unique values:\")\n",
    "print(X_train[column_name].value_counts(dropna=False))\n",
    "print(\"\\n--Mode:\")\n",
    "X_train[column_name].mode()\n"
   ]
  },
  {
   "cell_type": "code",
   "execution_count": null,
   "metadata": {},
   "outputs": [],
   "source": [
    "X_train  = pd.read_csv(\"data/train.csv\", keep_default_na=False, na_values=[])\n",
    "\n",
    "#Fix column to be treated as int\n",
    "X_train[\"LotFrontage\"] = pd.to_numeric(X_train[\"LotFrontage\"], errors='coerce')\n",
    "X_train[\"MasVnrArea\"] = pd.to_numeric(X_train[\"LotFrontage\"], errors='coerce')\n",
    "X_train[\"GarageYrBlt\"] = pd.to_numeric(X_train[\"LotFrontage\"], errors='coerce')\n",
    "\n",
    "\n",
    "\n",
    "cat_cols = X_train.select_dtypes(include=['object']).columns\n",
    "cat_info = {}\n",
    "# print(cat_cols)\n",
    "# print(X_train[\"Alley\"].value_counts(dropna=False))\n",
    "\n",
    "\n",
    "for col in cat_cols:    \n",
    "    unique_vals =  X_train[col].value_counts(dropna=False).shape[0]\n",
    "    missing_vals = X_train[col].isna().sum()\n",
    "    sample_vals = X_train[col].value_counts().head(3).index.tolist()\n",
    "    \n",
    "    cat_info[col] = {\n",
    "        'unique_values': unique_vals,\n",
    "        'missing_values': missing_vals,\n",
    "        'examples': sample_vals\n",
    "    }\n",
    "    # print(cat_info[col])\n",
    "\n",
    "\n",
    "# Categorize features based on properties\n",
    "binary_features = []\n",
    "ordinal_features = []\n",
    "low_card_nominal = []\n",
    "high_card_features = []\n",
    "tbd_features = []\n",
    "\n",
    "ordinal_features_cols = ['Alley', 'LotShape', 'Utilities', 'LandSlope', 'ExterQual', 'ExterCond', 'BsmtQual', 'BsmtCond', 'BsmtExposure', 'BsmtFinType1', 'BsmtFinType2', 'HeatingQC',\n",
    "'Functional', 'FireplaceQu', 'GarageFinish', 'GarageQual', 'GarageCond', 'PoolQC', 'Fence']\n",
    "\n",
    "for col, info in cat_info.items():\n",
    "    if col in ordinal_features_cols:\n",
    "        ordinal_features.append(col)\n",
    "    elif info['unique_values'] == 2:\n",
    "        binary_features.append(col)\n",
    "        # print(f\"Binary feature: {col}, {info['examples']}\")\n",
    "\n",
    "    elif info['unique_values'] <= 10:\n",
    "        low_card_nominal.append(col)\n",
    "    elif info['unique_values'] > 10 and info['unique_values'] <= 25:\n",
    "        tbd_features.append(col)       \n",
    "    elif info['unique_values'] > 25:\n",
    "        high_card_features.append(col)\n",
    "\n",
    "print (f\"\\nBinary features: {binary_features}\\n\")\n",
    "print (f\"Ordinal features: {ordinal_features}\\n\")\n",
    "print (f\"Low cardinality nominal features: {low_card_nominal}\\n\")\n",
    "print (f\"High cardinality features: {high_card_features}\\n\")\n",
    "print (f\"Features to be determined: {tbd_features}\\n\")\n",
    "\n",
    "\n",
    "\n",
    "\n"
   ]
  },
  {
   "cell_type": "markdown",
   "metadata": {},
   "source": [
    "# Verify if data is good for Gradient Descent"
   ]
  },
  {
   "cell_type": "markdown",
   "metadata": {},
   "source": [
    "#### X_train"
   ]
  },
  {
   "cell_type": "code",
   "execution_count": null,
   "metadata": {},
   "outputs": [],
   "source": [
    "import pandas as pd\n",
    "import numpy as np\n",
    "\n",
    "print(\"======= Train set verification =========\\n\")\n",
    "X_train = pd.read_csv(\"data/X_train_cleaned.csv\")\n",
    "\n",
    "X_train.drop(columns=['Id'], inplace=True)\n",
    "# Select only numeric columns\n",
    "\n",
    "# Check if your scaled data is actually scaled properly\n",
    "print(\"X_train mean:\", X_train.mean().mean())\n",
    "print(\"X_train std:\", X_train.std().mean())\n",
    "\n",
    "# previous results : \n",
    "# X_train mean: 9.871621621621621\n",
    "# X_train std: 6.684257057008759\n",
    "print(\"\\n======= Test set verification =========\\n\")\n",
    "\n",
    "X_test = pd.read_csv(\"data/X_test_cleaned.csv\")\n",
    "X_test.drop(columns=['Id'], inplace=True)\n",
    "print(\"X_test mean:\", X_test.mean().mean())\n",
    "print(\"X_test std:\", X_test.std().mean())\n",
    "\n",
    "# test NaN values\n",
    "print(f\"Checking for NA: {X_test.isnull().any().sum()}\")\n",
    "\n",
    "# col = X_test['MSSubClass']\n",
    "# print(f\"mean : {col.mean()}\")\n",
    "# print(f\"std : {col.std()}\")\n",
    "# print(f\"min : {col.min()}\")\n",
    "# print(f\"max : {col.max()}\")\n",
    "\n"
   ]
  },
  {
   "cell_type": "markdown",
   "metadata": {},
   "source": [
    "#### y_train"
   ]
  },
  {
   "cell_type": "code",
   "execution_count": null,
   "metadata": {},
   "outputs": [],
   "source": [
    "\n",
    "y_train = pd.read_csv(\"data/y_train.csv\")\n",
    "print(\"y_train min:\", y_train.min())\n",
    "print(\"y_train max:\", y_train.max())\n",
    "print(\"y_train mean:\", y_train.mean())\n"
   ]
  }
 ],
 "metadata": {
  "kernelspec": {
   "display_name": "ml-intro_env",
   "language": "python",
   "name": "python3"
  },
  "language_info": {
   "codemirror_mode": {
    "name": "ipython",
    "version": 3
   },
   "file_extension": ".py",
   "mimetype": "text/x-python",
   "name": "python",
   "nbconvert_exporter": "python",
   "pygments_lexer": "ipython3",
   "version": "3.12.7"
  }
 },
 "nbformat": 4,
 "nbformat_minor": 2
}
