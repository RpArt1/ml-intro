{
 "cells": [
  {
   "cell_type": "markdown",
   "metadata": {},
   "source": [
    "# 1. Create model & train"
   ]
  },
  {
   "cell_type": "code",
   "execution_count": null,
   "metadata": {},
   "outputs": [],
   "source": []
  },
  {
   "cell_type": "code",
   "execution_count": null,
   "metadata": {},
   "outputs": [],
   "source": [
    "from sklearn.linear_model import SGDRegressor\n",
    "import numpy as np\n",
    "import pandas as pd\n",
    "from sklearn.metrics import mean_squared_error\n",
    "\n",
    "\n",
    "import sys\n",
    "print(sys.executable)\n",
    "\n",
    "X_train = pd.read_csv('data/X_train_cleaned.csv', index_col='Id')\n",
    "# print(f\"type(X_train): {type(X_train)}\")\n",
    "# print(f\"X_train.shape: {X_train.shape}\")\n",
    "y_train = pd.read_csv('data/y_train.csv').squeeze()\n",
    "# y train should\n",
    "print(f\"type(y_train): {type(y_train)}\")\n",
    "print(f\"y_train.shape: {y_train.shape}\")\n",
    "print(f\"y_train values:\\n{y_train.head()}\")\n",
    "\n",
    "\n",
    "sgd_model = SGDRegressor(\n",
    "    loss='squared_error',\n",
    "    alpha=0.001,\n",
    "    shuffle=True, \n",
    "    max_iter=20000, \n",
    "    verbose=1,\n",
    "    tol=1e-5,\n",
    "    random_state=42  # Add this parameter with any integer value\n",
    ")\n",
    "\n",
    "\n",
    "sgd_model.fit(X_train, y_train) \n",
    "\n",
    "r2_score = sgd_model.score(X_train, y_train)\n",
    "print(f\"R² score: {r2_score:.4f}\")\n",
    "\n",
    "feature_importance = pd.DataFrame({\n",
    "    'Feature': X_train.columns,\n",
    "    'Coefficient': sgd_model.coef_.flatten()\n",
    "})\n",
    "feature_importance['Abs_Coefficient'] = feature_importance['Coefficient'].abs()\n",
    "top_features = feature_importance.sort_values('Abs_Coefficient', ascending=False).head(10)\n",
    "# print(top_features)\n",
    "\n",
    "# print(f\"Model type {sgd_model.__class__.__name__}\")\n"
   ]
  },
  {
   "cell_type": "markdown",
   "metadata": {},
   "source": [
    "# 2. test model on train output \n"
   ]
  },
  {
   "cell_type": "code",
   "execution_count": null,
   "metadata": {},
   "outputs": [],
   "source": [
    "y_pred_log = sgd_model.predict(X_train)\n",
    "# print(f\"y_pred_log: {y_pred_log}\")\n",
    "rmse_log = np.sqrt(mean_squared_error(y_train, y_pred_log))\n",
    "print(f\"RMSE (log scale): {rmse_log:.4f}\")\n",
    "\n",
    "# Convert predictions back to original price scale\n",
    "y_train_actual = np.expm1(y_train)\n",
    "# y_train_actual = # to series \n",
    "# convert y_train_actual to series\n",
    "y_train_actual = y_train_actual\n",
    "# print(f\"y_train_actual: {y_train_actual}\")\n",
    "y_pred_actual = np.expm1(y_pred_log)\n",
    "\n",
    "rmse_actual = np.sqrt(mean_squared_error(y_train_actual, y_pred_actual))\n",
    "print(f\"RMSE (actual $): ${rmse_actual:.2f}\")\n",
    "\n",
    "# print(f\"y_pred_actual: {y_pred_actual}, y_train_actual: {y_train_actual}\")\n",
    "# Mean Absolute Percentage Error (more interpretable)\n",
    "mape = np.mean(np.abs((y_train_actual - y_pred_actual) / y_train_actual)) * 100\n",
    "print(f\"Mean Absolute Percentage Error: {mape:.2f}%\")\n",
    "\n",
    "import matplotlib.pyplot as plt\n",
    "\n",
    "# Create scatter plot\n",
    "plt.figure(figsize=(10, 6))\n",
    "plt.scatter(y_train_actual, y_pred_actual, alpha=0.5)\n",
    "plt.plot([y_train_actual.min(), y_train_actual.max()], \n",
    "         [y_train_actual.min(), y_train_actual.max()], \n",
    "         'r--', lw=2)\n",
    "plt.xlabel('Actual Prices')\n",
    "plt.ylabel('Predicted Prices')\n",
    "plt.title('Predicted vs Actual House Prices')\n",
    "plt.show()\n",
    "\n",
    "# Optional: Plot residuals to check for patterns\n",
    "residuals = y_train_actual - y_pred_actual\n",
    "plt.figure(figsize=(10, 6))\n",
    "plt.scatter(y_pred_actual, residuals, alpha=0.5)\n",
    "plt.axhline(y=0, color='r', linestyle='--')\n",
    "plt.xlabel('Predicted Prices')\n",
    "plt.ylabel('Residuals')\n",
    "plt.title('Residual Plot')\n",
    "plt.show()"
   ]
  },
  {
   "cell_type": "markdown",
   "metadata": {},
   "source": [
    "# 3. Use model & make predictions"
   ]
  },
  {
   "cell_type": "markdown",
   "metadata": {},
   "source": []
  },
  {
   "cell_type": "code",
   "execution_count": null,
   "metadata": {},
   "outputs": [],
   "source": [
    "import pandas as pd\n",
    "import seaborn as sns\n",
    "from matplotlib.ticker import FuncFormatter\n",
    "\n",
    "\n",
    "test_df = pd.read_csv('data/X_test_cleaned.csv', index_col='Id')\n",
    "\n",
    "predict_prices  = sgd_model.predict(test_df).flatten()\n",
    "# print(predict_prices)\n",
    "print(f\"predict_prices.shape: {predict_prices.shape}\")    \n",
    "\n",
    "predict_prices_actual = np.expm1(predict_prices)\n",
    "print(f\"Example of prices: \\n{predict_prices_actual}\")\n",
    "\n",
    "# Check the values\n",
    "print(\"Min price:\", predict_prices_actual.min())\n",
    "print(\"Max price:\", predict_prices_actual.max())\n",
    "print(\"Mean price:\", predict_prices_actual.mean())\n",
    "\n",
    "\n",
    "# print \n",
    "\n",
    "# Format function to convert to $xxx,xxx format\n",
    "def currency_formatter(x, pos):\n",
    "    return f'${x:,.0f}'\n",
    "\n",
    "\n",
    "plt.figure(figsize=(10, 6))\n",
    "sns.histplot(predict_prices_actual, kde=True)\n",
    "plt.title('Distribution of Predicted House Prices')\n",
    "plt.xlabel('Price')\n",
    "plt.ylabel('Frequency')\n",
    "# plt.show()\n",
    "plt.gca().xaxis.set_major_formatter(FuncFormatter(currency_formatter))\n",
    "plt.tight_layout()\n",
    "plt.show()\n",
    "\n",
    "\n",
    "\n"
   ]
  },
  {
   "cell_type": "markdown",
   "metadata": {},
   "source": [
    "# 4. Create submissional format "
   ]
  },
  {
   "cell_type": "code",
   "execution_count": 183,
   "metadata": {},
   "outputs": [],
   "source": [
    "submission_df = pd.DataFrame({\n",
    "    'Id': test_df.index,\n",
    "    'SalePrice': predict_prices_actual\n",
    "})\n",
    "submission_df.to_csv('data/submission.csv', index=False)"
   ]
  }
 ],
 "metadata": {
  "kernelspec": {
   "display_name": ".ml-intro_env",
   "language": "python",
   "name": "python3"
  },
  "language_info": {
   "codemirror_mode": {
    "name": "ipython",
    "version": 3
   },
   "file_extension": ".py",
   "mimetype": "text/x-python",
   "name": "python",
   "nbconvert_exporter": "python",
   "pygments_lexer": "ipython3",
   "version": "3.11.7"
  }
 },
 "nbformat": 4,
 "nbformat_minor": 2
}
